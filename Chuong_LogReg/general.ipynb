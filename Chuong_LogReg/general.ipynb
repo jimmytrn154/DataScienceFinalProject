{
 "cells": [
  {
   "cell_type": "code",
   "execution_count": 3,
   "id": "263749b8",
   "metadata": {},
   "outputs": [],
   "source": [
    "import numpy as np\n",
    "import pandas as pd"
   ]
  },
  {
   "cell_type": "code",
   "execution_count": 4,
   "id": "6d9eaa2f",
   "metadata": {},
   "outputs": [
    {
     "data": {
      "text/html": [
       "<div>\n",
       "<style scoped>\n",
       "    .dataframe tbody tr th:only-of-type {\n",
       "        vertical-align: middle;\n",
       "    }\n",
       "\n",
       "    .dataframe tbody tr th {\n",
       "        vertical-align: top;\n",
       "    }\n",
       "\n",
       "    .dataframe thead th {\n",
       "        text-align: right;\n",
       "    }\n",
       "</style>\n",
       "<table border=\"1\" class=\"dataframe\">\n",
       "  <thead>\n",
       "    <tr style=\"text-align: right;\">\n",
       "      <th></th>\n",
       "      <th>booking_date</th>\n",
       "      <th>travel_date</th>\n",
       "      <th>route_type</th>\n",
       "      <th>travel_class</th>\n",
       "      <th>flight_number</th>\n",
       "      <th>price</th>\n",
       "      <th>total_duration</th>\n",
       "      <th>n_stops</th>\n",
       "      <th>carbon_this</th>\n",
       "      <th>delayed_any</th>\n",
       "      <th>layover_total_duration</th>\n",
       "      <th>days_to_departure</th>\n",
       "      <th>avg_stop_duration</th>\n",
       "    </tr>\n",
       "  </thead>\n",
       "  <tbody>\n",
       "    <tr>\n",
       "      <th>0</th>\n",
       "      <td>2025-05-14 16:47:50</td>\n",
       "      <td>2025-06-11</td>\n",
       "      <td>One way</td>\n",
       "      <td>Economy</td>\n",
       "      <td>QR 985</td>\n",
       "      <td>596</td>\n",
       "      <td>1390</td>\n",
       "      <td>1</td>\n",
       "      <td>1094000</td>\n",
       "      <td>False</td>\n",
       "      <td>125</td>\n",
       "      <td>27</td>\n",
       "      <td>125.0</td>\n",
       "    </tr>\n",
       "    <tr>\n",
       "      <th>1</th>\n",
       "      <td>2025-05-14 16:47:50</td>\n",
       "      <td>2025-06-11</td>\n",
       "      <td>One way</td>\n",
       "      <td>Economy</td>\n",
       "      <td>KE 454</td>\n",
       "      <td>602</td>\n",
       "      <td>1380</td>\n",
       "      <td>1</td>\n",
       "      <td>1123000</td>\n",
       "      <td>False</td>\n",
       "      <td>275</td>\n",
       "      <td>27</td>\n",
       "      <td>275.0</td>\n",
       "    </tr>\n",
       "    <tr>\n",
       "      <th>2</th>\n",
       "      <td>2025-05-14 16:47:50</td>\n",
       "      <td>2025-06-11</td>\n",
       "      <td>One way</td>\n",
       "      <td>Economy</td>\n",
       "      <td>CX 742</td>\n",
       "      <td>645</td>\n",
       "      <td>1315</td>\n",
       "      <td>1</td>\n",
       "      <td>888000</td>\n",
       "      <td>False</td>\n",
       "      <td>245</td>\n",
       "      <td>27</td>\n",
       "      <td>245.0</td>\n",
       "    </tr>\n",
       "    <tr>\n",
       "      <th>3</th>\n",
       "      <td>2025-05-14 16:47:50</td>\n",
       "      <td>2025-06-11</td>\n",
       "      <td>One way</td>\n",
       "      <td>Economy</td>\n",
       "      <td>QR 983</td>\n",
       "      <td>596</td>\n",
       "      <td>1485</td>\n",
       "      <td>1</td>\n",
       "      <td>966000</td>\n",
       "      <td>False</td>\n",
       "      <td>220</td>\n",
       "      <td>27</td>\n",
       "      <td>220.0</td>\n",
       "    </tr>\n",
       "    <tr>\n",
       "      <th>4</th>\n",
       "      <td>2025-05-14 16:47:50</td>\n",
       "      <td>2025-06-11</td>\n",
       "      <td>One way</td>\n",
       "      <td>Economy</td>\n",
       "      <td>KE 454</td>\n",
       "      <td>606</td>\n",
       "      <td>1591</td>\n",
       "      <td>2</td>\n",
       "      <td>948000</td>\n",
       "      <td>True</td>\n",
       "      <td>432</td>\n",
       "      <td>27</td>\n",
       "      <td>216.0</td>\n",
       "    </tr>\n",
       "  </tbody>\n",
       "</table>\n",
       "</div>"
      ],
      "text/plain": [
       "          booking_date travel_date route_type travel_class flight_number  \\\n",
       "0  2025-05-14 16:47:50  2025-06-11    One way      Economy        QR 985   \n",
       "1  2025-05-14 16:47:50  2025-06-11    One way      Economy        KE 454   \n",
       "2  2025-05-14 16:47:50  2025-06-11    One way      Economy        CX 742   \n",
       "3  2025-05-14 16:47:50  2025-06-11    One way      Economy        QR 983   \n",
       "4  2025-05-14 16:47:50  2025-06-11    One way      Economy        KE 454   \n",
       "\n",
       "   price  total_duration  n_stops  carbon_this  delayed_any  \\\n",
       "0    596            1390        1      1094000        False   \n",
       "1    602            1380        1      1123000        False   \n",
       "2    645            1315        1       888000        False   \n",
       "3    596            1485        1       966000        False   \n",
       "4    606            1591        2       948000         True   \n",
       "\n",
       "   layover_total_duration  days_to_departure  avg_stop_duration  \n",
       "0                     125                 27              125.0  \n",
       "1                     275                 27              275.0  \n",
       "2                     245                 27              245.0  \n",
       "3                     220                 27              220.0  \n",
       "4                     432                 27              216.0  "
      ]
     },
     "execution_count": 4,
     "metadata": {},
     "output_type": "execute_result"
    }
   ],
   "source": [
    "df = pd.read_csv('finalSet.csv')\n",
    "df.head()"
   ]
  },
  {
   "cell_type": "code",
   "execution_count": 5,
   "id": "068fc39f",
   "metadata": {},
   "outputs": [
    {
     "name": "stdout",
     "output_type": "stream",
     "text": [
      "<class 'pandas.core.frame.DataFrame'>\n",
      "RangeIndex: 173 entries, 0 to 172\n",
      "Data columns (total 13 columns):\n",
      " #   Column                  Non-Null Count  Dtype  \n",
      "---  ------                  --------------  -----  \n",
      " 0   booking_date            173 non-null    object \n",
      " 1   travel_date             173 non-null    object \n",
      " 2   route_type              173 non-null    object \n",
      " 3   travel_class            173 non-null    object \n",
      " 4   flight_number           173 non-null    object \n",
      " 5   price                   173 non-null    int64  \n",
      " 6   total_duration          173 non-null    int64  \n",
      " 7   n_stops                 173 non-null    int64  \n",
      " 8   carbon_this             173 non-null    int64  \n",
      " 9   delayed_any             173 non-null    bool   \n",
      " 10  layover_total_duration  173 non-null    int64  \n",
      " 11  days_to_departure       173 non-null    int64  \n",
      " 12  avg_stop_duration       173 non-null    float64\n",
      "dtypes: bool(1), float64(1), int64(6), object(5)\n",
      "memory usage: 16.5+ KB\n"
     ]
    }
   ],
   "source": [
    "df.info()"
   ]
  },
  {
   "cell_type": "code",
   "execution_count": 6,
   "id": "7b8a514a",
   "metadata": {},
   "outputs": [
    {
     "data": {
      "text/plain": [
       "booking_date              0\n",
       "travel_date               0\n",
       "route_type                0\n",
       "travel_class              0\n",
       "flight_number             0\n",
       "price                     0\n",
       "total_duration            0\n",
       "n_stops                   0\n",
       "carbon_this               0\n",
       "delayed_any               0\n",
       "layover_total_duration    0\n",
       "days_to_departure         0\n",
       "avg_stop_duration         0\n",
       "dtype: int64"
      ]
     },
     "execution_count": 6,
     "metadata": {},
     "output_type": "execute_result"
    }
   ],
   "source": [
    "df.isnull().sum()"
   ]
  },
  {
   "cell_type": "code",
   "execution_count": null,
   "id": "928ce0f0",
   "metadata": {},
   "outputs": [],
   "source": []
  }
 ],
 "metadata": {
  "kernelspec": {
   "display_name": "dias",
   "language": "python",
   "name": "python3"
  },
  "language_info": {
   "codemirror_mode": {
    "name": "ipython",
    "version": 3
   },
   "file_extension": ".py",
   "mimetype": "text/x-python",
   "name": "python",
   "nbconvert_exporter": "python",
   "pygments_lexer": "ipython3",
   "version": "3.10.10"
  }
 },
 "nbformat": 4,
 "nbformat_minor": 5
}
